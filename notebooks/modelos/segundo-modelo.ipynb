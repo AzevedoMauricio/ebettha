{
  "nbformat": 4,
  "nbformat_minor": 0,
  "metadata": {
    "colab": {
      "provenance": []
    },
    "kernelspec": {
      "name": "python3",
      "display_name": "Python 3"
    },
    "language_info": {
      "name": "python"
    }
  },
  "cells": [
    {
      "cell_type": "code",
      "execution_count": 1,
      "metadata": {
        "colab": {
          "base_uri": "https://localhost:8080/"
        },
        "id": "4CGTgQDGz0wq",
        "outputId": "ede10f0d-063f-4636-a2a9-93b561c32832"
      },
      "outputs": [
        {
          "output_type": "stream",
          "name": "stdout",
          "text": [
            "O melhor candidato para o Gestor 1 (ID do Gestor: 1) é o Candidato com ID 3\n",
            "O melhor candidato para o Gestor 2 (ID do Gestor: 2) é o Candidato com ID 4\n",
            "O melhor candidato para o Gestor 3 (ID do Gestor: 3) é o Candidato com ID 1\n",
            "O melhor candidato para o Gestor 4 (ID do Gestor: 4) é o Candidato com ID 2\n"
          ]
        },
        {
          "output_type": "stream",
          "name": "stderr",
          "text": [
            "/usr/local/lib/python3.10/dist-packages/sklearn/cluster/_kmeans.py:870: FutureWarning: The default value of `n_init` will change from 10 to 'auto' in 1.4. Set the value of `n_init` explicitly to suppress the warning\n",
            "  warnings.warn(\n"
          ]
        }
      ],
      "source": [
        "import pandas as pd\n",
        "import numpy as np\n",
        "import matplotlib.pyplot as plt\n",
        "from sklearn.cluster import KMeans\n",
        "from sklearn.neighbors import NearestNeighbors\n",
        "\n",
        "# Ler os arquivos CSV\n",
        "df_candidatos = pd.read_csv('olin-cadidatos.csv')\n",
        "df_gestores = pd.read_csv('olin-gestores.csv')\n",
        "\n",
        "# Habilidades para levar em consideração\n",
        "habilidades = ['superfit_dis', 'superfit_sin', 'superfit_cur', 'superfit_int', 'superfit_eng', 'superfit_res']\n",
        "\n",
        "# Preparar os dados\n",
        "candidatos = df_candidatos[habilidades].to_numpy()\n",
        "gestores = df_gestores[habilidades].to_numpy()\n",
        "\n",
        "# Usar K-means para clusterizar os candidatos\n",
        "kmeans = KMeans(n_clusters=len(gestores), random_state=0).fit(candidatos)\n",
        "labels = kmeans.labels_\n",
        "\n",
        "# Para cada gestor, usar k-NN para encontrar o candidato mais próximo dentro do mesmo cluster\n",
        "for i, gestor in enumerate(gestores):\n",
        "    cluster = np.where(labels == i)[0]\n",
        "    candidatos_cluster = candidatos[cluster]\n",
        "\n",
        "    # Aplicar k-NN\n",
        "    knn = NearestNeighbors(n_neighbors=1).fit(candidatos_cluster)\n",
        "    _, indices = knn.kneighbors([gestor])\n",
        "\n",
        "    candidato_mais_proximo_index = indices[0][0]\n",
        "\n",
        "    # Identificar o melhor candidato para cada gestor\n",
        "    id_candidatos_cluster = df_candidatos.loc[cluster]['id'].to_numpy()\n",
        "    id_melhor_candidato = id_candidatos_cluster[candidato_mais_proximo_index]\n",
        "    print(f\"O melhor candidato para o Gestor {i+1} (ID do Gestor: {df_gestores.loc[i, 'id']}) é o Candidato com ID {id_melhor_candidato}\")\n",
        "\n",
        "# Plotar gráficos de pares\n",
        "# fig, ax = plt.subplots(len(habilidades), len(habilidades), figsize=(15, 15))\n",
        "\n",
        "# for i, habilidade1 in enumerate(habilidades):\n",
        "#     for j, habilidade2 in enumerate(habilidades):\n",
        "#         ax[i, j].scatter(df_candidatos[habilidade1], df_candidatos[habilidade2], c=labels, cmap='viridis')\n",
        "#         ax[i, j].scatter(df_gestores[habilidade1], df_gestores[habilidade2], c='red', marker='x')\n",
        "#         ax[i, j].set_xlabel(habilidade1)\n",
        "#         ax[i, j].set_ylabel(habilidade2)\n",
        "\n",
        "# plt.show()\n"
      ]
    }
  ]
}