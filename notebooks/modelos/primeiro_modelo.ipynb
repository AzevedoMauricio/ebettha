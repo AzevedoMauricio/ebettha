{
  "nbformat": 4,
  "nbformat_minor": 0,
  "metadata": {
    "colab": {
      "provenance": []
    },
    "kernelspec": {
      "name": "python3",
      "display_name": "Python 3"
    },
    "language_info": {
      "name": "python"
    }
  },
  "cells": [
    {
      "cell_type": "markdown",
      "source": [
        "#Primeiro modelo Ebettha - Sistema de compatibilidade\n",
        "\n",
        "No primeiro modelo aqui apresentado, a equipe optou por fazer um recorte da base de dados para observar como os resultados seriam mostrados e, após validação junto ao parceiro, buscar a generalização.\n",
        "\n",
        "Dessa forma, o grupo utilizou somente os resultados de superfit dos candidatos e gestores e, para iniciar o código, optamos por utilizar somente dados de 6 usuários e 3 gestores, pois isso permitirá uma melhor visualização e interpretação dos resultados.\n",
        "\n",
        "Abaixo, é possível verificar a construção desse modelo."
      ],
      "metadata": {
        "id": "oVgNhp2MAC6K"
      }
    },
    {
      "cell_type": "code",
      "execution_count": 16,
      "metadata": {
        "id": "Vvk-zEHB_ouf"
      },
      "outputs": [],
      "source": [
        "#Nessa célula, estamos somente importando as bibliotecas a serem utilizadas\n",
        "import pandas as pd\n",
        "import numpy as np\n",
        "from scipy.spatial.distance import cdist"
      ]
    },
    {
      "cell_type": "code",
      "source": [
        "#Nesta célula, fazemos o download das bases de dados para que seja possível replicar o código em qualquer máquina\n",
        "!gdown 14DS1ZYhQ7JpLq-hYPQ3f95XTtB5_EkP6 --output candidatos.csv #Tabela de candidatos\n",
        "!gdown 1xIzSoerJysUxJI1bAeWzQ2AzLx8PraLI --output gestores.csv #Tabela de gestores"
      ],
      "metadata": {
        "colab": {
          "base_uri": "https://localhost:8080/"
        },
        "id": "HsiIsFZN_z-9",
        "outputId": "3cd7a27b-8e16-405a-d240-f6582474fec9"
      },
      "execution_count": 13,
      "outputs": [
        {
          "output_type": "stream",
          "name": "stdout",
          "text": [
            "Downloading...\n",
            "From: https://drive.google.com/uc?id=14DS1ZYhQ7JpLq-hYPQ3f95XTtB5_EkP6\n",
            "To: /content/candidatos.csv\n",
            "100% 313/313 [00:00<00:00, 960kB/s]\n",
            "Downloading...\n",
            "From: https://drive.google.com/uc?id=1xIzSoerJysUxJI1bAeWzQ2AzLx8PraLI\n",
            "To: /content/gestores.csv\n",
            "100% 216/216 [00:00<00:00, 884kB/s]\n"
          ]
        }
      ]
    },
    {
      "cell_type": "code",
      "source": [
        "#Nesta célula, criamos os dataframes apartir das tabelas que nós fizemos o download anteriormente\n",
        "df_candidatos = pd.read_csv('candidatos.csv')\n",
        "df_gestores = pd.read_csv('gestores.csv')"
      ],
      "metadata": {
        "id": "NgytFGduBXsF"
      },
      "execution_count": 14,
      "outputs": []
    },
    {
      "cell_type": "markdown",
      "source": [
        "Como já mencionado, iremos utilizar somente as competências avaliadas no teste \"genius\" (superfit). Dessa forma, vamos analisar somente as competências descritas abaixo:"
      ],
      "metadata": {
        "id": "p3snWd52EoRn"
      }
    },
    {
      "cell_type": "code",
      "source": [
        "# Habilidades para considerar\n",
        "habilidades = ['superfit_dis', 'superfit_sin', 'superfit_cur', 'superfit_int', 'superfit_eng', 'superfit_res']"
      ],
      "metadata": {
        "id": "SD7UTHdJEnvi"
      },
      "execution_count": 15,
      "outputs": []
    },
    {
      "cell_type": "code",
      "source": [
        "#Nesta célula, iremos transformar os nossos dataframes em matrizes numpy, pois iremos fazer algumas operações que necessitam desse tipo\n",
        "candidatos = df_candidatos[habilidades].to_numpy()\n",
        "gestores = df_gestores[habilidades].to_numpy()"
      ],
      "metadata": {
        "id": "i01XdUnhFLYt"
      },
      "execution_count": 17,
      "outputs": []
    },
    {
      "cell_type": "code",
      "source": [
        "#Aqui, calculamos a matriz de distância euclidiana tendo como conjunto as matrizes de gestores e candidatos.\n",
        "distancias = cdist(candidatos, gestores, 'euclidean')"
      ],
      "metadata": {
        "id": "7l2i4hljFWad"
      },
      "execution_count": 19,
      "outputs": []
    },
    {
      "cell_type": "markdown",
      "source": [
        "A célula anterior é de suma importância para o nosso modelo, pois é com ela que teremos base para construir a nossa metrificação que servirá para definir o nível de compatibilidade entre candidato e gestores. Nas células a seguir será possível entender como esse cálculo é feito."
      ],
      "metadata": {
        "id": "fE7721TdFh78"
      }
    },
    {
      "cell_type": "code",
      "source": [
        "# Calcula a distância máxima possível baseado na variação dos dados\n",
        "diferenca_max = np.ptp(np.vstack([candidatos, gestores]), axis=0)\n",
        "distancia_max_possivel = np.sqrt(np.sum(diferenca_max ** 2))\n",
        "\n",
        "# Calculando a compatibilidade\n",
        "compatibilidade = (1 - distancias / distancia_max_possivel) * 100"
      ],
      "metadata": {
        "id": "ekx54cWaF5wK"
      },
      "execution_count": 22,
      "outputs": []
    },
    {
      "cell_type": "markdown",
      "source": [
        "Considerando que os dados já estão normalizados e vão de 0 até 1, podemos fazer algumas considerações sobre a fórmula apresentada acima:\n",
        "\n",
        "\n",
        "*   O valor máximo para distancia_max_possivel é um, que é o caso de quanto o gestor e o candidato são considerados completamente opostos.\n",
        "*   O valor de distancia varia a cada candidato sendo que, caso a distância seja 1 (o mais diferente possível), o resultado da fórmula de compatibilidade é 0.\n",
        "*   Por outro lado, caso o gestor e o candidato sejam exatamente iguais, o valor de distancias será 0, e com isso, o resultado da compatibilidade será 100%.\n",
        "\n"
      ],
      "metadata": {
        "id": "mdad-tQCHAE6"
      }
    },
    {
      "cell_type": "markdown",
      "source": [
        "Por fim, na célula abaixo, podemos enfim verificar o nível de compatibilidade entre gestores e candidatos."
      ],
      "metadata": {
        "id": "Q3b-rbhmGKwz"
      }
    },
    {
      "cell_type": "code",
      "source": [
        "# Classificar gestores para cada candidato\n",
        "for i in range(len(candidatos)):\n",
        "    ranking = np.argsort(compatibilidade[i])  # Classifica os índices com base na compatibilidade\n",
        "    ranking_reverso = ranking[::-1]  # Inverte para obter do maior para o menor\n",
        "    print(f\"Ranking de gestores para o Candidato {i+1} (ID do Candidato: {df_candidatos.loc[i, 'id']})\")\n",
        "\n",
        "    for j, gestor_index in enumerate(ranking_reverso):\n",
        "        print(f\"  {j+1}. Gestor com ID {df_gestores.loc[gestor_index, 'id']} com {compatibilidade[i][gestor_index]:.2f}% de compatibilidade.\")"
      ],
      "metadata": {
        "colab": {
          "base_uri": "https://localhost:8080/"
        },
        "id": "RXTc-PczGSME",
        "outputId": "736a54fd-88e6-413f-dba1-d49d763eec90"
      },
      "execution_count": 21,
      "outputs": [
        {
          "output_type": "stream",
          "name": "stdout",
          "text": [
            "Ranking de gestores para o Candidato 1 (ID do Candidato: 1)\n",
            "  1. Gestor com ID 4 com 100.00% de compatibilidade.\n",
            "  2. Gestor com ID 3 com 100.00% de compatibilidade.\n",
            "  3. Gestor com ID 1 com 53.95% de compatibilidade.\n",
            "  4. Gestor com ID 2 com 39.48% de compatibilidade.\n",
            "Ranking de gestores para o Candidato 2 (ID do Candidato: 2)\n",
            "  1. Gestor com ID 2 com 75.79% de compatibilidade.\n",
            "  2. Gestor com ID 1 com 71.89% de compatibilidade.\n",
            "  3. Gestor com ID 4 com 45.43% de compatibilidade.\n",
            "  4. Gestor com ID 3 com 45.43% de compatibilidade.\n",
            "Ranking de gestores para o Candidato 3 (ID do Candidato: 3)\n",
            "  1. Gestor com ID 1 com 85.88% de compatibilidade.\n",
            "  2. Gestor com ID 2 com 74.86% de compatibilidade.\n",
            "  3. Gestor com ID 4 com 51.27% de compatibilidade.\n",
            "  4. Gestor com ID 3 com 51.27% de compatibilidade.\n",
            "Ranking de gestores para o Candidato 4 (ID do Candidato: 4)\n",
            "  1. Gestor com ID 1 com 32.60% de compatibilidade.\n",
            "  2. Gestor com ID 2 com 25.72% de compatibilidade.\n",
            "  3. Gestor com ID 4 com 23.86% de compatibilidade.\n",
            "  4. Gestor com ID 3 com 23.86% de compatibilidade.\n",
            "Ranking de gestores para o Candidato 5 (ID do Candidato: 5)\n",
            "  1. Gestor com ID 1 com 79.50% de compatibilidade.\n",
            "  2. Gestor com ID 2 com 76.07% de compatibilidade.\n",
            "  3. Gestor com ID 4 com 51.03% de compatibilidade.\n",
            "  4. Gestor com ID 3 com 51.03% de compatibilidade.\n",
            "Ranking de gestores para o Candidato 6 (ID do Candidato: 6)\n",
            "  1. Gestor com ID 1 com 84.79% de compatibilidade.\n",
            "  2. Gestor com ID 2 com 73.09% de compatibilidade.\n",
            "  3. Gestor com ID 4 com 57.76% de compatibilidade.\n",
            "  4. Gestor com ID 3 com 57.76% de compatibilidade.\n",
            "Ranking de gestores para o Candidato 7 (ID do Candidato: 7)\n",
            "  1. Gestor com ID 4 com 100.00% de compatibilidade.\n",
            "  2. Gestor com ID 3 com 100.00% de compatibilidade.\n",
            "  3. Gestor com ID 1 com 53.95% de compatibilidade.\n",
            "  4. Gestor com ID 2 com 39.48% de compatibilidade.\n"
          ]
        }
      ]
    },
    {
      "cell_type": "markdown",
      "source": [
        "##Ponto de melhoria\n",
        "\n",
        "Durante a construção desse modelo, foi verificado que, caso existe um candidato com habilidades muito boas, melhores que a dos gestores, o nosso código classifica ele com pouca compatibilidade, sendo que, na vida real, um candidato muito bom deveria ser compatível com a vaga. Este é um problema que ainda está em discussão sobre formas de contorná-lo.\n",
        "\n",
        "Outro ponto a se observar é que este é só um protótipo que será utilizado para validação junto ao cliente. Na próxima sprint (sprint 4), tanto esse modelo como outros dois modelos candidatos estarão finalizados e testados, sendo possível escolher o melhor."
      ],
      "metadata": {
        "id": "tlhdTziqIKWQ"
      }
    }
  ]
}